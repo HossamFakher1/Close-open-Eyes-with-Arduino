{
 "cells": [
  {
   "cell_type": "code",
   "execution_count": 1,
   "metadata": {},
   "outputs": [],
   "source": [
    "import dlib\n",
    "from keras.models import load_model\n",
    "from keras.preprocessing.image import img_to_array\n",
    "from keras.preprocessing import image\n",
    "import cv2\n",
    "import numpy as np"
   ]
  },
  {
   "cell_type": "code",
   "execution_count": 2,
   "metadata": {},
   "outputs": [],
   "source": [
    "detector=dlib.get_frontal_face_detector()\n",
    "predictor=dlib.shape_predictor('shape_predictor_68_face_landmarks.dat')\n",
    "\n",
    "classifier =load_model('eyes.h5')"
   ]
  },
  {
   "cell_type": "code",
   "execution_count": 3,
   "metadata": {},
   "outputs": [],
   "source": [
    "class_labels = ['Closed_Eyes','Open_Eyes']"
   ]
  },
  {
   "cell_type": "code",
   "execution_count": 4,
   "metadata": {},
   "outputs": [],
   "source": [
    "from pyfirmata import Arduino\n",
    "\n",
    "cap=cv2.VideoCapture(0)\n",
    "cap.set(3,1280)\n",
    "cap.set(4,720)\n",
    "if __name__ == \"__main__\" :\n",
    "    board =Arduino('COM3')\n",
    "    while True:\n",
    "        ret,frame=cap.read()\n",
    "        if ret==False :\n",
    "            break\n",
    "        gray=cv2.cvtColor(frame,cv2.COLOR_BGR2GRAY)\n",
    "\n",
    "        faces=detector(gray)\n",
    "\n",
    "        for face in faces :\n",
    "            x1,x2,y1,y2=face.left(),face.right(),face.top(),face.bottom()\n",
    "            preds = 'Hossam'\n",
    "            label_position = (200,200)\n",
    "            cv2.rectangle(frame,(x1,y1),(x2,y2),(0,0,255),3)\n",
    "            cv2.putText(frame,preds,label_position,cv2.FONT_HERSHEY_SIMPLEX,2,(125,125,125),3)\n",
    "            \n",
    "            landmarks=predictor(gray,face)\n",
    "            x11=landmarks.part(22).x\n",
    "            y11=landmarks.part(22).y\n",
    "            x22=landmarks.part(15).x\n",
    "            y22=landmarks.part(15).y\n",
    "\n",
    "            cv2.rectangle(frame,(x11,y11),(x22,y22),(0,0,255),3)\n",
    "            roi_gray = frame[y11:y22,x11:x22]\n",
    "            roi_gray = cv2.resize(roi_gray,(86,86),interpolation=cv2.INTER_AREA)\n",
    "\n",
    "\n",
    "            if np.sum([roi_gray])!=0:\n",
    "                roi = roi_gray.astype('float')/255.0\n",
    "                roi = img_to_array(roi)\n",
    "                roi = np.expand_dims(roi,axis=0)\n",
    "\n",
    "            # make a prediction on the ROI, then lookup the class\n",
    "\n",
    "                preds = classifier.predict(roi)[0]\n",
    "                label=class_labels[preds.argmax()]\n",
    "\n",
    "                if label=='Closed_Eyes':\n",
    "                    cv2.rectangle(frame,(x11,y11),(x22,y22),(0,0,255),3)\n",
    "                    cv2.putText(frame,label,(100,100),cv2.FONT_HERSHEY_SIMPLEX,2,(0,0,255),3)\n",
    "                    board.digital[6].write(1)\n",
    "                    board.digital[7].write(0)\n",
    "                else :\n",
    "                    cv2.rectangle(frame,(x11,y11),(x22,y22),(0,255,0),3)\n",
    "                    cv2.putText(frame,label,(100,100),cv2.FONT_HERSHEY_SIMPLEX,2,(0,255,0),3)\n",
    "                    board.digital[7].write(1)\n",
    "                    board.digital[6].write(0)\n",
    "        cv2.imshow('img',frame)\n",
    "        if cv2.waitKey(1) & 0xFF == ord('q'):\n",
    "            break\n",
    "\n",
    "cap.release()\n",
    "cv2.destroyAllWindows()"
   ]
  },
  {
   "cell_type": "code",
   "execution_count": null,
   "metadata": {},
   "outputs": [],
   "source": []
  },
  {
   "cell_type": "code",
   "execution_count": null,
   "metadata": {},
   "outputs": [],
   "source": []
  }
 ],
 "metadata": {
  "kernelspec": {
   "display_name": "Python 3",
   "language": "python",
   "name": "python3"
  },
  "language_info": {
   "codemirror_mode": {
    "name": "ipython",
    "version": 3
   },
   "file_extension": ".py",
   "mimetype": "text/x-python",
   "name": "python",
   "nbconvert_exporter": "python",
   "pygments_lexer": "ipython3",
   "version": "3.8.5"
  }
 },
 "nbformat": 4,
 "nbformat_minor": 4
}
